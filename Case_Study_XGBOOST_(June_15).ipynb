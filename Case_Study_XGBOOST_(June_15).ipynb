{
  "nbformat": 4,
  "nbformat_minor": 0,
  "metadata": {
    "colab": {
      "name": "Copy of Assignment Week 1-2: Case Study XGBOOST (June 15).ipynb",
      "provenance": [],
      "collapsed_sections": [],
      "toc_visible": true,
      "include_colab_link": true
    },
    "kernelspec": {
      "name": "python3",
      "display_name": "Python 3"
    },
    "language_info": {
      "name": "python"
    }
  },
  "cells": [
    {
      "cell_type": "markdown",
      "metadata": {
        "id": "view-in-github",
        "colab_type": "text"
      },
      "source": [
        "<a href=\"https://colab.research.google.com/github/aminmohebbi11/mcmedhacks_2022/blob/main/Case_Study_XGBOOST_(June_15).ipynb\" target=\"_parent\"><img src=\"https://colab.research.google.com/assets/colab-badge.svg\" alt=\"Open In Colab\"/></a>"
      ]
    },
    {
      "cell_type": "markdown",
      "source": [
        "# Assignment Week 1-2: Case Study XGBOOST (June 15)\n",
        "\n",
        "Created by: **Hosein Beheshtifard & Aref Motamedi**"
      ],
      "metadata": {
        "id": "cZSp5sM82R6g"
      }
    },
    {
      "cell_type": "markdown",
      "source": [
        "**Overview**:\n",
        "\n",
        "XGBoost (eXtreme Gradient Boosting) is an open-source software library which provides a regularizing gradient boosting framework for C++, Java, Python, R, Julia, Perl, and Scala. It is an optimized distributed gradient boosting library designed to be highly efficient, flexible and portable. It implements machine learning algorithms under the Gradient Boosting framework. XGBoost provides a parallel tree boosting (also known as GBDT, GBM) that solve many data science problems in a fast and accurate way.\n",
        "\n",
        "![](https://upload.wikimedia.org/wikipedia/commons/6/69/XGBoost_logo.png)\n",
        "\n",
        "![](https://miro.medium.com/max/777/1*l4PN8hyAO4fMLxUbIxcETA.png)\n",
        "\n"
      ],
      "metadata": {
        "id": "xVAsZU7d2Qnv"
      }
    },
    {
      "cell_type": "markdown",
      "source": [
        "In order to get a better understanding of this library, let's test it on an actual -small- project."
      ],
      "metadata": {
        "id": "Xuea-wNj2_F1"
      }
    },
    {
      "cell_type": "markdown",
      "source": [
        "<h2> Dataset </h2>\n",
        "\n",
        "We will use a clean dataset of 70,692 survey responses to the CDC's BRFSS2015. It has an equal 50-50 split of respondents with no diabetes and with either prediabetes or diabetes. The target variable Diabetes_binary has 2 classes. 0 is for no diabetes, and 1 is for prediabetes or diabetes. This dataset has 21 feature variables and is balanced.\n",
        "\n",
        "\n",
        "\n",
        "Link to download the dataset: https://drive.google.com/file/d/1UXvhGWwUApkDEX9Tt4enQ5l1D6jNBPb4/view?usp=sharing"
      ],
      "metadata": {
        "id": "hEZ6HnDf5fci"
      }
    },
    {
      "cell_type": "markdown",
      "source": [
        "<h2> Importing libraries and packages </h2>"
      ],
      "metadata": {
        "id": "r4-Q4xnY-EZY"
      }
    },
    {
      "cell_type": "code",
      "source": [
        "import numpy as np\n",
        "import pandas as pd\n",
        "import xgboost as xgb\n",
        "\n",
        "from scipy import stats\n",
        "import seaborn as sns\n",
        "import matplotlib.pyplot as plt\n",
        "%matplotlib inline\n",
        "\n",
        "from sklearn.preprocessing import LabelEncoder\n",
        "from sklearn.preprocessing import StandardScaler\n",
        "from sklearn.model_selection import KFold, cross_val_score, train_test_split, StratifiedKFold, GridSearchCV\n",
        "\n",
        "from sklearn.metrics import confusion_matrix, accuracy_score, precision_score, recall_score, f1_score, log_loss\n",
        "from sklearn.metrics import roc_curve, roc_auc_score, auc\n",
        "from xgboost import XGBClassifier\n",
        "\n",
        "plt.style.use(\"Solarize_Light2\")\n",
        "\n",
        "import warnings\n",
        "warnings.filterwarnings(\"ignore\")"
      ],
      "metadata": {
        "id": "y9yiFwN--QQI"
      },
      "execution_count": 1,
      "outputs": []
    },
    {
      "cell_type": "markdown",
      "source": [
        "<h2> Loading the dataset </h2>\n"
      ],
      "metadata": {
        "id": "9JZLUBHj-bqE"
      }
    },
    {
      "cell_type": "code",
      "source": [
        "# load the dataset\n",
        "from google.colab import files\n",
        "uploaded = files.upload()"
      ],
      "metadata": {
        "id": "ez-IEIXZ-5K5",
        "colab": {
          "resources": {
            "http://localhost:8080/nbextensions/google.colab/files.js": {
              "data": "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",
              "ok": true,
              "headers": [
                [
                  "content-type",
                  "application/javascript"
                ]
              ],
              "status": 200,
              "status_text": ""
            }
          },
          "base_uri": "https://localhost:8080/",
          "height": 111
        },
        "outputId": "b77362dc-9940-4693-8de5-ec0f85eca364"
      },
      "execution_count": 2,
      "outputs": [
        {
          "output_type": "display_data",
          "data": {
            "text/plain": [
              "<IPython.core.display.HTML object>"
            ],
            "text/html": [
              "\n",
              "     <input type=\"file\" id=\"files-4816de72-82dd-4869-827e-cf8eb9fbade5\" name=\"files[]\" multiple disabled\n",
              "        style=\"border:none\" />\n",
              "     <output id=\"result-4816de72-82dd-4869-827e-cf8eb9fbade5\">\n",
              "      Upload widget is only available when the cell has been executed in the\n",
              "      current browser session. Please rerun this cell to enable.\n",
              "      </output>\n",
              "      <script src=\"/nbextensions/google.colab/files.js\"></script> "
            ]
          },
          "metadata": {}
        },
        {
          "output_type": "stream",
          "name": "stdout",
          "text": [
            "Saving Copy of diabetes_binary_5050split_health_indicators_BRFSS2015.csv to Copy of diabetes_binary_5050split_health_indicators_BRFSS2015.csv\n"
          ]
        }
      ]
    },
    {
      "cell_type": "code",
      "source": [
        "data = pd.read_csv(\"Copy of diabetes_binary_5050split_health_indicators_BRFSS2015.csv\")\n",
        "data"
      ],
      "metadata": {
        "id": "nXo9xhfdZURy",
        "colab": {
          "base_uri": "https://localhost:8080/",
          "height": 488
        },
        "outputId": "a9389de8-a26d-4c27-8c40-5ec2c378c5a2"
      },
      "execution_count": 3,
      "outputs": [
        {
          "output_type": "execute_result",
          "data": {
            "text/plain": [
              "       Diabetes_binary  HighBP  HighChol  CholCheck   BMI  Smoker  Stroke  \\\n",
              "0                  0.0     1.0       0.0        1.0  26.0     0.0     0.0   \n",
              "1                  0.0     1.0       1.0        1.0  26.0     1.0     1.0   \n",
              "2                  0.0     0.0       0.0        1.0  26.0     0.0     0.0   \n",
              "3                  0.0     1.0       1.0        1.0  28.0     1.0     0.0   \n",
              "4                  0.0     0.0       0.0        1.0  29.0     1.0     0.0   \n",
              "...                ...     ...       ...        ...   ...     ...     ...   \n",
              "70687              1.0     0.0       1.0        1.0  37.0     0.0     0.0   \n",
              "70688              1.0     0.0       1.0        1.0  29.0     1.0     0.0   \n",
              "70689              1.0     1.0       1.0        1.0  25.0     0.0     0.0   \n",
              "70690              1.0     1.0       1.0        1.0  18.0     0.0     0.0   \n",
              "70691              1.0     1.0       1.0        1.0  25.0     0.0     0.0   \n",
              "\n",
              "       HeartDiseaseorAttack  PhysActivity  Fruits  ...  AnyHealthcare  \\\n",
              "0                       0.0           1.0     0.0  ...            1.0   \n",
              "1                       0.0           0.0     1.0  ...            1.0   \n",
              "2                       0.0           1.0     1.0  ...            1.0   \n",
              "3                       0.0           1.0     1.0  ...            1.0   \n",
              "4                       0.0           1.0     1.0  ...            1.0   \n",
              "...                     ...           ...     ...  ...            ...   \n",
              "70687                   0.0           0.0     0.0  ...            1.0   \n",
              "70688                   1.0           0.0     1.0  ...            1.0   \n",
              "70689                   1.0           0.0     1.0  ...            1.0   \n",
              "70690                   0.0           0.0     0.0  ...            1.0   \n",
              "70691                   1.0           1.0     1.0  ...            1.0   \n",
              "\n",
              "       NoDocbcCost  GenHlth  MentHlth  PhysHlth  DiffWalk  Sex   Age  \\\n",
              "0              0.0      3.0       5.0      30.0       0.0  1.0   4.0   \n",
              "1              0.0      3.0       0.0       0.0       0.0  1.0  12.0   \n",
              "2              0.0      1.0       0.0      10.0       0.0  1.0  13.0   \n",
              "3              0.0      3.0       0.0       3.0       0.0  1.0  11.0   \n",
              "4              0.0      2.0       0.0       0.0       0.0  0.0   8.0   \n",
              "...            ...      ...       ...       ...       ...  ...   ...   \n",
              "70687          0.0      4.0       0.0       0.0       0.0  0.0   6.0   \n",
              "70688          0.0      2.0       0.0       0.0       1.0  1.0  10.0   \n",
              "70689          0.0      5.0      15.0       0.0       1.0  0.0  13.0   \n",
              "70690          0.0      4.0       0.0       0.0       1.0  0.0  11.0   \n",
              "70691          0.0      2.0       0.0       0.0       0.0  0.0   9.0   \n",
              "\n",
              "       Education  Income  \n",
              "0            6.0     8.0  \n",
              "1            6.0     8.0  \n",
              "2            6.0     8.0  \n",
              "3            6.0     8.0  \n",
              "4            5.0     8.0  \n",
              "...          ...     ...  \n",
              "70687        4.0     1.0  \n",
              "70688        3.0     6.0  \n",
              "70689        6.0     4.0  \n",
              "70690        2.0     4.0  \n",
              "70691        6.0     2.0  \n",
              "\n",
              "[70692 rows x 22 columns]"
            ],
            "text/html": [
              "\n",
              "  <div id=\"df-a973c1de-5f6c-42d5-9212-767d1b395a61\">\n",
              "    <div class=\"colab-df-container\">\n",
              "      <div>\n",
              "<style scoped>\n",
              "    .dataframe tbody tr th:only-of-type {\n",
              "        vertical-align: middle;\n",
              "    }\n",
              "\n",
              "    .dataframe tbody tr th {\n",
              "        vertical-align: top;\n",
              "    }\n",
              "\n",
              "    .dataframe thead th {\n",
              "        text-align: right;\n",
              "    }\n",
              "</style>\n",
              "<table border=\"1\" class=\"dataframe\">\n",
              "  <thead>\n",
              "    <tr style=\"text-align: right;\">\n",
              "      <th></th>\n",
              "      <th>Diabetes_binary</th>\n",
              "      <th>HighBP</th>\n",
              "      <th>HighChol</th>\n",
              "      <th>CholCheck</th>\n",
              "      <th>BMI</th>\n",
              "      <th>Smoker</th>\n",
              "      <th>Stroke</th>\n",
              "      <th>HeartDiseaseorAttack</th>\n",
              "      <th>PhysActivity</th>\n",
              "      <th>Fruits</th>\n",
              "      <th>...</th>\n",
              "      <th>AnyHealthcare</th>\n",
              "      <th>NoDocbcCost</th>\n",
              "      <th>GenHlth</th>\n",
              "      <th>MentHlth</th>\n",
              "      <th>PhysHlth</th>\n",
              "      <th>DiffWalk</th>\n",
              "      <th>Sex</th>\n",
              "      <th>Age</th>\n",
              "      <th>Education</th>\n",
              "      <th>Income</th>\n",
              "    </tr>\n",
              "  </thead>\n",
              "  <tbody>\n",
              "    <tr>\n",
              "      <th>0</th>\n",
              "      <td>0.0</td>\n",
              "      <td>1.0</td>\n",
              "      <td>0.0</td>\n",
              "      <td>1.0</td>\n",
              "      <td>26.0</td>\n",
              "      <td>0.0</td>\n",
              "      <td>0.0</td>\n",
              "      <td>0.0</td>\n",
              "      <td>1.0</td>\n",
              "      <td>0.0</td>\n",
              "      <td>...</td>\n",
              "      <td>1.0</td>\n",
              "      <td>0.0</td>\n",
              "      <td>3.0</td>\n",
              "      <td>5.0</td>\n",
              "      <td>30.0</td>\n",
              "      <td>0.0</td>\n",
              "      <td>1.0</td>\n",
              "      <td>4.0</td>\n",
              "      <td>6.0</td>\n",
              "      <td>8.0</td>\n",
              "    </tr>\n",
              "    <tr>\n",
              "      <th>1</th>\n",
              "      <td>0.0</td>\n",
              "      <td>1.0</td>\n",
              "      <td>1.0</td>\n",
              "      <td>1.0</td>\n",
              "      <td>26.0</td>\n",
              "      <td>1.0</td>\n",
              "      <td>1.0</td>\n",
              "      <td>0.0</td>\n",
              "      <td>0.0</td>\n",
              "      <td>1.0</td>\n",
              "      <td>...</td>\n",
              "      <td>1.0</td>\n",
              "      <td>0.0</td>\n",
              "      <td>3.0</td>\n",
              "      <td>0.0</td>\n",
              "      <td>0.0</td>\n",
              "      <td>0.0</td>\n",
              "      <td>1.0</td>\n",
              "      <td>12.0</td>\n",
              "      <td>6.0</td>\n",
              "      <td>8.0</td>\n",
              "    </tr>\n",
              "    <tr>\n",
              "      <th>2</th>\n",
              "      <td>0.0</td>\n",
              "      <td>0.0</td>\n",
              "      <td>0.0</td>\n",
              "      <td>1.0</td>\n",
              "      <td>26.0</td>\n",
              "      <td>0.0</td>\n",
              "      <td>0.0</td>\n",
              "      <td>0.0</td>\n",
              "      <td>1.0</td>\n",
              "      <td>1.0</td>\n",
              "      <td>...</td>\n",
              "      <td>1.0</td>\n",
              "      <td>0.0</td>\n",
              "      <td>1.0</td>\n",
              "      <td>0.0</td>\n",
              "      <td>10.0</td>\n",
              "      <td>0.0</td>\n",
              "      <td>1.0</td>\n",
              "      <td>13.0</td>\n",
              "      <td>6.0</td>\n",
              "      <td>8.0</td>\n",
              "    </tr>\n",
              "    <tr>\n",
              "      <th>3</th>\n",
              "      <td>0.0</td>\n",
              "      <td>1.0</td>\n",
              "      <td>1.0</td>\n",
              "      <td>1.0</td>\n",
              "      <td>28.0</td>\n",
              "      <td>1.0</td>\n",
              "      <td>0.0</td>\n",
              "      <td>0.0</td>\n",
              "      <td>1.0</td>\n",
              "      <td>1.0</td>\n",
              "      <td>...</td>\n",
              "      <td>1.0</td>\n",
              "      <td>0.0</td>\n",
              "      <td>3.0</td>\n",
              "      <td>0.0</td>\n",
              "      <td>3.0</td>\n",
              "      <td>0.0</td>\n",
              "      <td>1.0</td>\n",
              "      <td>11.0</td>\n",
              "      <td>6.0</td>\n",
              "      <td>8.0</td>\n",
              "    </tr>\n",
              "    <tr>\n",
              "      <th>4</th>\n",
              "      <td>0.0</td>\n",
              "      <td>0.0</td>\n",
              "      <td>0.0</td>\n",
              "      <td>1.0</td>\n",
              "      <td>29.0</td>\n",
              "      <td>1.0</td>\n",
              "      <td>0.0</td>\n",
              "      <td>0.0</td>\n",
              "      <td>1.0</td>\n",
              "      <td>1.0</td>\n",
              "      <td>...</td>\n",
              "      <td>1.0</td>\n",
              "      <td>0.0</td>\n",
              "      <td>2.0</td>\n",
              "      <td>0.0</td>\n",
              "      <td>0.0</td>\n",
              "      <td>0.0</td>\n",
              "      <td>0.0</td>\n",
              "      <td>8.0</td>\n",
              "      <td>5.0</td>\n",
              "      <td>8.0</td>\n",
              "    </tr>\n",
              "    <tr>\n",
              "      <th>...</th>\n",
              "      <td>...</td>\n",
              "      <td>...</td>\n",
              "      <td>...</td>\n",
              "      <td>...</td>\n",
              "      <td>...</td>\n",
              "      <td>...</td>\n",
              "      <td>...</td>\n",
              "      <td>...</td>\n",
              "      <td>...</td>\n",
              "      <td>...</td>\n",
              "      <td>...</td>\n",
              "      <td>...</td>\n",
              "      <td>...</td>\n",
              "      <td>...</td>\n",
              "      <td>...</td>\n",
              "      <td>...</td>\n",
              "      <td>...</td>\n",
              "      <td>...</td>\n",
              "      <td>...</td>\n",
              "      <td>...</td>\n",
              "      <td>...</td>\n",
              "    </tr>\n",
              "    <tr>\n",
              "      <th>70687</th>\n",
              "      <td>1.0</td>\n",
              "      <td>0.0</td>\n",
              "      <td>1.0</td>\n",
              "      <td>1.0</td>\n",
              "      <td>37.0</td>\n",
              "      <td>0.0</td>\n",
              "      <td>0.0</td>\n",
              "      <td>0.0</td>\n",
              "      <td>0.0</td>\n",
              "      <td>0.0</td>\n",
              "      <td>...</td>\n",
              "      <td>1.0</td>\n",
              "      <td>0.0</td>\n",
              "      <td>4.0</td>\n",
              "      <td>0.0</td>\n",
              "      <td>0.0</td>\n",
              "      <td>0.0</td>\n",
              "      <td>0.0</td>\n",
              "      <td>6.0</td>\n",
              "      <td>4.0</td>\n",
              "      <td>1.0</td>\n",
              "    </tr>\n",
              "    <tr>\n",
              "      <th>70688</th>\n",
              "      <td>1.0</td>\n",
              "      <td>0.0</td>\n",
              "      <td>1.0</td>\n",
              "      <td>1.0</td>\n",
              "      <td>29.0</td>\n",
              "      <td>1.0</td>\n",
              "      <td>0.0</td>\n",
              "      <td>1.0</td>\n",
              "      <td>0.0</td>\n",
              "      <td>1.0</td>\n",
              "      <td>...</td>\n",
              "      <td>1.0</td>\n",
              "      <td>0.0</td>\n",
              "      <td>2.0</td>\n",
              "      <td>0.0</td>\n",
              "      <td>0.0</td>\n",
              "      <td>1.0</td>\n",
              "      <td>1.0</td>\n",
              "      <td>10.0</td>\n",
              "      <td>3.0</td>\n",
              "      <td>6.0</td>\n",
              "    </tr>\n",
              "    <tr>\n",
              "      <th>70689</th>\n",
              "      <td>1.0</td>\n",
              "      <td>1.0</td>\n",
              "      <td>1.0</td>\n",
              "      <td>1.0</td>\n",
              "      <td>25.0</td>\n",
              "      <td>0.0</td>\n",
              "      <td>0.0</td>\n",
              "      <td>1.0</td>\n",
              "      <td>0.0</td>\n",
              "      <td>1.0</td>\n",
              "      <td>...</td>\n",
              "      <td>1.0</td>\n",
              "      <td>0.0</td>\n",
              "      <td>5.0</td>\n",
              "      <td>15.0</td>\n",
              "      <td>0.0</td>\n",
              "      <td>1.0</td>\n",
              "      <td>0.0</td>\n",
              "      <td>13.0</td>\n",
              "      <td>6.0</td>\n",
              "      <td>4.0</td>\n",
              "    </tr>\n",
              "    <tr>\n",
              "      <th>70690</th>\n",
              "      <td>1.0</td>\n",
              "      <td>1.0</td>\n",
              "      <td>1.0</td>\n",
              "      <td>1.0</td>\n",
              "      <td>18.0</td>\n",
              "      <td>0.0</td>\n",
              "      <td>0.0</td>\n",
              "      <td>0.0</td>\n",
              "      <td>0.0</td>\n",
              "      <td>0.0</td>\n",
              "      <td>...</td>\n",
              "      <td>1.0</td>\n",
              "      <td>0.0</td>\n",
              "      <td>4.0</td>\n",
              "      <td>0.0</td>\n",
              "      <td>0.0</td>\n",
              "      <td>1.0</td>\n",
              "      <td>0.0</td>\n",
              "      <td>11.0</td>\n",
              "      <td>2.0</td>\n",
              "      <td>4.0</td>\n",
              "    </tr>\n",
              "    <tr>\n",
              "      <th>70691</th>\n",
              "      <td>1.0</td>\n",
              "      <td>1.0</td>\n",
              "      <td>1.0</td>\n",
              "      <td>1.0</td>\n",
              "      <td>25.0</td>\n",
              "      <td>0.0</td>\n",
              "      <td>0.0</td>\n",
              "      <td>1.0</td>\n",
              "      <td>1.0</td>\n",
              "      <td>1.0</td>\n",
              "      <td>...</td>\n",
              "      <td>1.0</td>\n",
              "      <td>0.0</td>\n",
              "      <td>2.0</td>\n",
              "      <td>0.0</td>\n",
              "      <td>0.0</td>\n",
              "      <td>0.0</td>\n",
              "      <td>0.0</td>\n",
              "      <td>9.0</td>\n",
              "      <td>6.0</td>\n",
              "      <td>2.0</td>\n",
              "    </tr>\n",
              "  </tbody>\n",
              "</table>\n",
              "<p>70692 rows × 22 columns</p>\n",
              "</div>\n",
              "      <button class=\"colab-df-convert\" onclick=\"convertToInteractive('df-a973c1de-5f6c-42d5-9212-767d1b395a61')\"\n",
              "              title=\"Convert this dataframe to an interactive table.\"\n",
              "              style=\"display:none;\">\n",
              "        \n",
              "  <svg xmlns=\"http://www.w3.org/2000/svg\" height=\"24px\"viewBox=\"0 0 24 24\"\n",
              "       width=\"24px\">\n",
              "    <path d=\"M0 0h24v24H0V0z\" fill=\"none\"/>\n",
              "    <path d=\"M18.56 5.44l.94 2.06.94-2.06 2.06-.94-2.06-.94-.94-2.06-.94 2.06-2.06.94zm-11 1L8.5 8.5l.94-2.06 2.06-.94-2.06-.94L8.5 2.5l-.94 2.06-2.06.94zm10 10l.94 2.06.94-2.06 2.06-.94-2.06-.94-.94-2.06-.94 2.06-2.06.94z\"/><path d=\"M17.41 7.96l-1.37-1.37c-.4-.4-.92-.59-1.43-.59-.52 0-1.04.2-1.43.59L10.3 9.45l-7.72 7.72c-.78.78-.78 2.05 0 2.83L4 21.41c.39.39.9.59 1.41.59.51 0 1.02-.2 1.41-.59l7.78-7.78 2.81-2.81c.8-.78.8-2.07 0-2.86zM5.41 20L4 18.59l7.72-7.72 1.47 1.35L5.41 20z\"/>\n",
              "  </svg>\n",
              "      </button>\n",
              "      \n",
              "  <style>\n",
              "    .colab-df-container {\n",
              "      display:flex;\n",
              "      flex-wrap:wrap;\n",
              "      gap: 12px;\n",
              "    }\n",
              "\n",
              "    .colab-df-convert {\n",
              "      background-color: #E8F0FE;\n",
              "      border: none;\n",
              "      border-radius: 50%;\n",
              "      cursor: pointer;\n",
              "      display: none;\n",
              "      fill: #1967D2;\n",
              "      height: 32px;\n",
              "      padding: 0 0 0 0;\n",
              "      width: 32px;\n",
              "    }\n",
              "\n",
              "    .colab-df-convert:hover {\n",
              "      background-color: #E2EBFA;\n",
              "      box-shadow: 0px 1px 2px rgba(60, 64, 67, 0.3), 0px 1px 3px 1px rgba(60, 64, 67, 0.15);\n",
              "      fill: #174EA6;\n",
              "    }\n",
              "\n",
              "    [theme=dark] .colab-df-convert {\n",
              "      background-color: #3B4455;\n",
              "      fill: #D2E3FC;\n",
              "    }\n",
              "\n",
              "    [theme=dark] .colab-df-convert:hover {\n",
              "      background-color: #434B5C;\n",
              "      box-shadow: 0px 1px 3px 1px rgba(0, 0, 0, 0.15);\n",
              "      filter: drop-shadow(0px 1px 2px rgba(0, 0, 0, 0.3));\n",
              "      fill: #FFFFFF;\n",
              "    }\n",
              "  </style>\n",
              "\n",
              "      <script>\n",
              "        const buttonEl =\n",
              "          document.querySelector('#df-a973c1de-5f6c-42d5-9212-767d1b395a61 button.colab-df-convert');\n",
              "        buttonEl.style.display =\n",
              "          google.colab.kernel.accessAllowed ? 'block' : 'none';\n",
              "\n",
              "        async function convertToInteractive(key) {\n",
              "          const element = document.querySelector('#df-a973c1de-5f6c-42d5-9212-767d1b395a61');\n",
              "          const dataTable =\n",
              "            await google.colab.kernel.invokeFunction('convertToInteractive',\n",
              "                                                     [key], {});\n",
              "          if (!dataTable) return;\n",
              "\n",
              "          const docLinkHtml = 'Like what you see? Visit the ' +\n",
              "            '<a target=\"_blank\" href=https://colab.research.google.com/notebooks/data_table.ipynb>data table notebook</a>'\n",
              "            + ' to learn more about interactive tables.';\n",
              "          element.innerHTML = '';\n",
              "          dataTable['output_type'] = 'display_data';\n",
              "          await google.colab.output.renderOutput(dataTable, element);\n",
              "          const docLink = document.createElement('div');\n",
              "          docLink.innerHTML = docLinkHtml;\n",
              "          element.appendChild(docLink);\n",
              "        }\n",
              "      </script>\n",
              "    </div>\n",
              "  </div>\n",
              "  "
            ]
          },
          "metadata": {},
          "execution_count": 3
        }
      ]
    },
    {
      "cell_type": "markdown",
      "source": [
        "<h2> Pre-processing </h2>\n",
        "\n",
        "In this section, we need to prepare our data before it is used in order to ensure or enhance performances.\n",
        "We usually do a variety of things in this step, such as normalization, data cleaning, handling missing values, feature reduction, and etc.\n",
        "\n"
      ],
      "metadata": {
        "id": "7nwuXCKG_S7h"
      }
    },
    {
      "cell_type": "code",
      "source": [
        "data.isna().sum()"
      ],
      "metadata": {
        "id": "8B0PQR912D6n",
        "colab": {
          "base_uri": "https://localhost:8080/"
        },
        "outputId": "ea0199fc-5d33-4e24-afd3-0bef1ded8bfb"
      },
      "execution_count": 4,
      "outputs": [
        {
          "output_type": "execute_result",
          "data": {
            "text/plain": [
              "Diabetes_binary         0\n",
              "HighBP                  0\n",
              "HighChol                0\n",
              "CholCheck               0\n",
              "BMI                     0\n",
              "Smoker                  0\n",
              "Stroke                  0\n",
              "HeartDiseaseorAttack    0\n",
              "PhysActivity            0\n",
              "Fruits                  0\n",
              "Veggies                 0\n",
              "HvyAlcoholConsump       0\n",
              "AnyHealthcare           0\n",
              "NoDocbcCost             0\n",
              "GenHlth                 0\n",
              "MentHlth                0\n",
              "PhysHlth                0\n",
              "DiffWalk                0\n",
              "Sex                     0\n",
              "Age                     0\n",
              "Education               0\n",
              "Income                  0\n",
              "dtype: int64"
            ]
          },
          "metadata": {},
          "execution_count": 4
        }
      ]
    },
    {
      "cell_type": "markdown",
      "source": [
        "*   Fortunately, our dataset does not contain any missing values.\n",
        "\n",
        "Let's see how many unique values are in each attribute:\n",
        "\n"
      ],
      "metadata": {
        "id": "CDLeTIpY2wVZ"
      }
    },
    {
      "cell_type": "code",
      "source": [
        "data.nunique()"
      ],
      "metadata": {
        "id": "XU1NPKq04kO8",
        "colab": {
          "base_uri": "https://localhost:8080/"
        },
        "outputId": "df9d5ed0-ef36-4d67-a960-613f007c0fbf"
      },
      "execution_count": 5,
      "outputs": [
        {
          "output_type": "execute_result",
          "data": {
            "text/plain": [
              "Diabetes_binary          2\n",
              "HighBP                   2\n",
              "HighChol                 2\n",
              "CholCheck                2\n",
              "BMI                     80\n",
              "Smoker                   2\n",
              "Stroke                   2\n",
              "HeartDiseaseorAttack     2\n",
              "PhysActivity             2\n",
              "Fruits                   2\n",
              "Veggies                  2\n",
              "HvyAlcoholConsump        2\n",
              "AnyHealthcare            2\n",
              "NoDocbcCost              2\n",
              "GenHlth                  5\n",
              "MentHlth                31\n",
              "PhysHlth                31\n",
              "DiffWalk                 2\n",
              "Sex                      2\n",
              "Age                     13\n",
              "Education                6\n",
              "Income                   8\n",
              "dtype: int64"
            ]
          },
          "metadata": {},
          "execution_count": 5
        }
      ]
    },
    {
      "cell_type": "markdown",
      "source": [
        "* Non-binary categorical features - GenHlth, Education, Income.\n",
        "* Continuous features - BMI, MentHlth, PhysHlth, Age\n",
        "\n"
      ],
      "metadata": {
        "id": "j3A8zQ4o5Bvi"
      }
    },
    {
      "cell_type": "code",
      "source": [
        "cat_col = ['GenHlth', 'Education', 'Income']"
      ],
      "metadata": {
        "id": "EgCSYk9C5XwV"
      },
      "execution_count": 6,
      "outputs": []
    },
    {
      "cell_type": "code",
      "source": [
        "num = ['BMI', 'MentHlth', 'PhysHlth', 'Age']"
      ],
      "metadata": {
        "id": "2V3pFwpqZf2W"
      },
      "execution_count": 7,
      "outputs": []
    },
    {
      "cell_type": "markdown",
      "source": [
        "Let's break the categorical features into separate variables:\n"
      ],
      "metadata": {
        "id": "VfAILCEH9x2R"
      }
    },
    {
      "cell_type": "code",
      "source": [
        "data = pd.get_dummies(data, columns=cat_col)"
      ],
      "metadata": {
        "id": "hhQpmb1i90VE"
      },
      "execution_count": 8,
      "outputs": []
    },
    {
      "cell_type": "markdown",
      "source": [
        "We can also deivide the values of BMI (body mass index) into groups:"
      ],
      "metadata": {
        "id": "FUf91nVj-lva"
      }
    },
    {
      "cell_type": "code",
      "source": [
        "data['bmi_group'] = pd.cut(data['BMI'], (0, 16, 18.5, 25, 30, 35, 40, np.inf), labels=[1, 2, 3, 4, 5, 6, 7])\n",
        "data.BMI = data['bmi_group']\n",
        "data.drop('bmi_group', axis=1, inplace=True)\n",
        "data.BMI = data.BMI.astype('float')"
      ],
      "metadata": {
        "id": "JNAPMTtM7fSm"
      },
      "execution_count": 9,
      "outputs": []
    },
    {
      "cell_type": "markdown",
      "source": [
        "Many other preprocessing operations such as normalization and feature reduction can be performed at this step, but for the purposes of this exercise, we will not go any further."
      ],
      "metadata": {
        "id": "pevrFFdhBBm7"
      }
    },
    {
      "cell_type": "markdown",
      "source": [
        "Finally we need to seperate the labels"
      ],
      "metadata": {
        "id": "6q9SjIAXCWjo"
      }
    },
    {
      "cell_type": "code",
      "source": [
        "X = data.drop(['Diabetes_binary'], axis=1)\n",
        "y = data['Diabetes_binary']"
      ],
      "metadata": {
        "id": "77Jd-0nnZlpx"
      },
      "execution_count": 10,
      "outputs": []
    },
    {
      "cell_type": "markdown",
      "source": [
        "<h2> XGBOOST </h2>\n"
      ],
      "metadata": {
        "id": "ZA0CvaWeAZU5"
      }
    },
    {
      "cell_type": "markdown",
      "source": [
        "At first, we would like to split out dataset into train and validation sets. For each, we are needed to indicate data (**X**) and labels (**y**)\n"
      ],
      "metadata": {
        "id": "6aMHlprQjw-b"
      }
    },
    {
      "cell_type": "code",
      "source": [
        "seed = 123 # a value for random_state\n",
        "X_train, X_valid, y_train, y_valid = train_test_split(X, y, test_size=0.2, random_state=seed, shuffle=True, stratify=y)\n",
        "X_train.shape, X_valid.shape, y_train.shape, y_valid.shape"
      ],
      "metadata": {
        "id": "Hel4mtVJAjOM",
        "colab": {
          "base_uri": "https://localhost:8080/"
        },
        "outputId": "2de3abc2-0ebc-4e57-998e-d4cec85d5399"
      },
      "execution_count": 11,
      "outputs": [
        {
          "output_type": "execute_result",
          "data": {
            "text/plain": [
              "((56553, 37), (14139, 37), (56553,), (14139,))"
            ]
          },
          "metadata": {},
          "execution_count": 11
        }
      ]
    },
    {
      "cell_type": "markdown",
      "source": [
        "You can see the parameters and default values of XGBoost Classifier:"
      ],
      "metadata": {
        "id": "mKm1XCTBkWX2"
      }
    },
    {
      "cell_type": "code",
      "source": [
        "xgb.XGBClassifier().get_params()"
      ],
      "metadata": {
        "id": "zw4HEU4bZsrK",
        "colab": {
          "base_uri": "https://localhost:8080/"
        },
        "outputId": "fd5ff238-ef18-48ad-c628-9100880f857a"
      },
      "execution_count": 12,
      "outputs": [
        {
          "output_type": "execute_result",
          "data": {
            "text/plain": [
              "{'base_score': 0.5,\n",
              " 'booster': 'gbtree',\n",
              " 'colsample_bylevel': 1,\n",
              " 'colsample_bynode': 1,\n",
              " 'colsample_bytree': 1,\n",
              " 'gamma': 0,\n",
              " 'learning_rate': 0.1,\n",
              " 'max_delta_step': 0,\n",
              " 'max_depth': 3,\n",
              " 'min_child_weight': 1,\n",
              " 'missing': None,\n",
              " 'n_estimators': 100,\n",
              " 'n_jobs': 1,\n",
              " 'nthread': None,\n",
              " 'objective': 'binary:logistic',\n",
              " 'random_state': 0,\n",
              " 'reg_alpha': 0,\n",
              " 'reg_lambda': 1,\n",
              " 'scale_pos_weight': 1,\n",
              " 'seed': None,\n",
              " 'silent': None,\n",
              " 'subsample': 1,\n",
              " 'verbosity': 1}"
            ]
          },
          "metadata": {},
          "execution_count": 12
        }
      ]
    },
    {
      "cell_type": "markdown",
      "source": [
        "[Learn about XGBoost Parameters](https://xgboost.readthedocs.io/en/stable/parameter.html)"
      ],
      "metadata": {
        "id": "nz7zUDVdaZ9T"
      }
    },
    {
      "cell_type": "markdown",
      "source": [
        "<h1> EXERCISE 1. </h1>\n",
        "\n",
        "1. Create a XGBOOST classifier model with parameters defined as below:\n",
        "\n",
        "*   Learning rate = 0.3 (`learning_rate`)\n",
        "*   Maximum depth of tree = 4 (`max_depth`)\n",
        "*   `n_estimator` = 100\n",
        "*   `subsample` = 0.5\n",
        "*   `colsample_bytree` = 1\n",
        "*   `random_state` = seed (defined earlier)\n",
        "*   evaluation metric = 'auc' (`eval_metric`)\n",
        "\n",
        "2. After creating the model, You need to fit model with our data. (Set `early_stopping_rounds = 10` and `verbose=True` )\n",
        "\n",
        "3. Check the accuracy for the trained model."
      ],
      "metadata": {
        "id": "kQV1NKSSkh1d"
      }
    },
    {
      "cell_type": "code",
      "source": [
        "\n",
        "# 1. Defining the model \n",
        "model_xgboost = XGBClassifier(max_depth = 4, learning_rate = 0.3, n_estimators=100 ,colsample_bytree=1,subsample=0.5, eval_metric = 'auc' , random_state= seed) # Your code goes here!\n",
        "\n",
        "eval_set = [ (X_train, y_train) , (X_valid, y_valid)]\n",
        "\n",
        "# 2. Fit the model \n",
        "#model_xgboost.fit(X_train, y_train, early_stopping_rounds=10 , verbose=True) # Your code goes here!\n",
        "model_xgboost.fit(X_train, y_train, verbose=True) # Your code goes here!\n",
        "\n",
        "# 3. Check the result\n",
        "from sklearn.metrics import classification_report\n",
        "# Your code goes here!\n",
        "pred_train = model_xgboost.predict(X_train)\n",
        "pred_valid = model_xgboost.predict(X_valid)\n",
        "print('Train Accuracy: ', accuracy_score(y_valid, pred_valid))\n",
        "print('Test Accuraccy: ', accuracy_score(y_train, pred_train))\n",
        "print('Classification Report:')\n",
        "print(classification_report(y_train,pred_train))"
      ],
      "metadata": {
        "id": "eb94ZcDPkQYK",
        "colab": {
          "base_uri": "https://localhost:8080/"
        },
        "outputId": "6d34885d-ccd1-452e-cbd3-c112ad862ced"
      },
      "execution_count": 13,
      "outputs": [
        {
          "output_type": "stream",
          "name": "stdout",
          "text": [
            "Train Accuracy:  0.7512553928849283\n",
            "Test Accuraccy:  0.7613566035400421\n",
            "Classification Report:\n",
            "              precision    recall  f1-score   support\n",
            "\n",
            "         0.0       0.78      0.72      0.75     28276\n",
            "         1.0       0.74      0.80      0.77     28277\n",
            "\n",
            "    accuracy                           0.76     56553\n",
            "   macro avg       0.76      0.76      0.76     56553\n",
            "weighted avg       0.76      0.76      0.76     56553\n",
            "\n"
          ]
        }
      ]
    },
    {
      "cell_type": "markdown",
      "source": [
        "<h2> Tuning hyperparameters </h2>"
      ],
      "metadata": {
        "id": "htShNq3CAkDs"
      }
    },
    {
      "cell_type": "markdown",
      "source": [
        "As you saw in the last section, there are many hyperparameters involved in creating a model. In order to achieve better results, we always need to tune them first."
      ],
      "metadata": {
        "id": "ViTOldYvpol2"
      }
    },
    {
      "cell_type": "markdown",
      "source": [
        "<h2> EXERCISE 2. </h2>\n",
        "\n",
        "Try different values for the most important hyperparameters to find the best combination. \n",
        "\n",
        "For tuning hyperparameters use `GridSearchCV` to try different combinations, and you can also use `my_roc_auc_score` as the evaluating function.\n",
        "\n",
        "**Note:** In order to find the best set, it is important to monitor and analyze the results of changing each hyperparameter."
      ],
      "metadata": {
        "id": "Xj2jpGqRqFch"
      }
    },
    {
      "cell_type": "code",
      "source": [
        "# you can use different values for the below hyperparameters.\n",
        "learning_rate_list = [0.02, 0.1, 0.3]\n",
        "max_depth_list = [2, 3, 4]\n",
        "n_estimators_list = [100, 200, 300]\n",
        "\n",
        "params_dict = {\"learning_rate\": learning_rate_list,\n",
        "               \"max_depth\": max_depth_list,\n",
        "               \"n_estimators\": n_estimators_list}\n",
        "\n",
        "num_combinations = 1\n",
        "for v in params_dict.values(): num_combinations *= len(v) \n",
        "\n",
        "print(num_combinations)\n",
        "params_dict"
      ],
      "metadata": {
        "id": "FcMJWZCoaVpq",
        "colab": {
          "base_uri": "https://localhost:8080/"
        },
        "outputId": "f6af6b78-4561-4db7-c894-13b294b92e16"
      },
      "execution_count": 14,
      "outputs": [
        {
          "output_type": "stream",
          "name": "stdout",
          "text": [
            "27\n"
          ]
        },
        {
          "output_type": "execute_result",
          "data": {
            "text/plain": [
              "{'learning_rate': [0.02, 0.1, 0.3],\n",
              " 'max_depth': [2, 3, 4],\n",
              " 'n_estimators': [100, 200, 300]}"
            ]
          },
          "metadata": {},
          "execution_count": 14
        }
      ]
    },
    {
      "cell_type": "code",
      "source": [
        "from xgboost.training import cv\n",
        "from sklearn.metrics import make_scorer\n",
        "def my_roc_auc_score(model, X, y): return roc_auc_score(y, model.predict_proba(X)[:,1])\n",
        "\n",
        "model = XGBClassifier(subsample=0.5,\n",
        "                      colsample_bytree=1,\n",
        "                      random_state = seed,\n",
        "                      eval_metric='auc')\n",
        "\n",
        "# Your code goes here!\n",
        "scoring = {\n",
        "    'AUC': 'roc_auc', \n",
        "    'Accuracy': make_scorer(roc_auc_score)\n",
        "}\n",
        "num_folds = 10\n",
        "kfold = StratifiedKFold(n_splits=num_folds, random_state=seed, shuffle=True)\n",
        "n_iter=50\n",
        "grid = GridSearchCV(estimator = model,param_grid = params_dict , scoring = scoring , n_jobs=-1 , refit = \"AUC\" , cv=kfold)\n",
        "    #estimator=model, \n",
        "    #param_distributions=params_dict,\n",
        "    #cv=kfold,\n",
        "    #scoring=scoring,\n",
        "    #n_jobs=-1,\n",
        "    #n_iter=n_iter,\n",
        "    #refit=\"AUC\",\n",
        "# fit grid search\n",
        "%time best_model = grid.fit(X_valid , y_valid)\n"
      ],
      "metadata": {
        "id": "Nx0JdK8baYDr",
        "colab": {
          "base_uri": "https://localhost:8080/"
        },
        "outputId": "628b26f1-5a5a-41b9-cbb4-2b93ee817878"
      },
      "execution_count": 35,
      "outputs": [
        {
          "output_type": "stream",
          "name": "stdout",
          "text": [
            "CPU times: user 13 s, sys: 664 ms, total: 13.6 s\n",
            "Wall time: 11min 55s\n"
          ]
        }
      ]
    },
    {
      "cell_type": "code",
      "source": [
        "best_model"
      ],
      "metadata": {
        "colab": {
          "base_uri": "https://localhost:8080/"
        },
        "id": "EnxKV32aU6pw",
        "outputId": "5670b96e-6c55-414e-a8ff-2d6d73759120"
      },
      "execution_count": 43,
      "outputs": [
        {
          "output_type": "execute_result",
          "data": {
            "text/plain": [
              "GridSearchCV(cv=StratifiedKFold(n_splits=10, random_state=123, shuffle=True),\n",
              "             estimator=XGBClassifier(eval_metric='auc', random_state=123,\n",
              "                                     subsample=0.5),\n",
              "             n_jobs=-1,\n",
              "             param_grid={'learning_rate': [0.02, 0.1, 0.3],\n",
              "                         'max_depth': [2, 3, 4],\n",
              "                         'n_estimators': [100, 200, 300]},\n",
              "             refit='AUC',\n",
              "             scoring={'AUC': 'roc_auc', 'Accuracy': make_scorer(roc_auc_score)})"
            ]
          },
          "metadata": {},
          "execution_count": 43
        }
      ]
    },
    {
      "cell_type": "markdown",
      "source": [
        "With `(model_name).best_params_` you can find the best combination in your model.\n",
        "\n",
        "\n",
        "\n",
        "\n",
        "\n"
      ],
      "metadata": {
        "id": "V550MW5WruXE"
      }
    },
    {
      "cell_type": "markdown",
      "source": [
        "With `pd.DataFrame(model_name.cv_results_)` you can get the results in a dataframe.\n",
        "\n",
        "Sort the dataframe based on the evaluation metric."
      ],
      "metadata": {
        "id": "KSu37IqfsBEt"
      }
    },
    {
      "cell_type": "code",
      "source": [
        "print(f'Best score: {best_model.best_score_}')\n",
        "print(f'Best model: {best_model.best_params_}')\n",
        "\n",
        "df_cv_results = pd.DataFrame(best_model.cv_results_)\n",
        "\n",
        "# Your code goes here! \n"
      ],
      "metadata": {
        "id": "9urqOUbBabit",
        "colab": {
          "base_uri": "https://localhost:8080/"
        },
        "outputId": "11f42189-2d72-4b7c-d375-8a37f0f04385"
      },
      "execution_count": 44,
      "outputs": [
        {
          "output_type": "stream",
          "name": "stdout",
          "text": [
            "Best score: 0.8308384389876112\n",
            "Best model: {'learning_rate': 0.02, 'max_depth': 4, 'n_estimators': 300}\n"
          ]
        }
      ]
    },
    {
      "cell_type": "markdown",
      "source": [
        "<h2> Exercise 3.</h2>\n",
        "\n",
        "1. Train and test the model using the best hyperparameteres you found.\n",
        "2. Calculate the AUC metric for both train and test sets.\n",
        "3. Present the classification results in the form of a confusion matrix.\n",
        "4. Determine recall and precision using the confusiom matrix."
      ],
      "metadata": {
        "id": "wDgQjVtys8xG"
      }
    },
    {
      "cell_type": "code",
      "source": [
        "# Your code goes here! \n",
        "pred_train = best_model.predict(X_train)\n",
        "pred_valid = best_model.predict(X_valid)\n",
        "print('Train Accuracy: ', accuracy_score(y_valid, pred_valid))\n",
        "print('Test Accuraccy: ', accuracy_score(y_train, pred_train))\n",
        "print('\\nConfusion Matrix:')\n",
        "print(confusion_matrix(y_train,pred_train))\n",
        "print('\\nClassification Report:')\n",
        "print(classification_report(y_train,pred_train))"
      ],
      "metadata": {
        "id": "k-ohlAkmkure",
        "colab": {
          "base_uri": "https://localhost:8080/"
        },
        "outputId": "c51c8334-5127-4d7e-8bc3-97339ce54454"
      },
      "execution_count": 45,
      "outputs": [
        {
          "output_type": "stream",
          "name": "stdout",
          "text": [
            "Train Accuracy:  0.7636325058349247\n",
            "Test Accuraccy:  0.749473944795148\n",
            "\n",
            "Confusion Matrix:\n",
            "[[19786  8490]\n",
            " [ 5678 22599]]\n",
            "\n",
            "Classification Report:\n",
            "              precision    recall  f1-score   support\n",
            "\n",
            "         0.0       0.78      0.70      0.74     28276\n",
            "         1.0       0.73      0.80      0.76     28277\n",
            "\n",
            "    accuracy                           0.75     56553\n",
            "   macro avg       0.75      0.75      0.75     56553\n",
            "weighted avg       0.75      0.75      0.75     56553\n",
            "\n"
          ]
        }
      ]
    },
    {
      "cell_type": "markdown",
      "source": [
        "## References\n",
        "1. [XGBoost Documentation](https://xgboost.readthedocs.io/en/stable/)\n"
      ],
      "metadata": {
        "id": "Bo5j2x48bzCV"
      }
    }
  ]
}